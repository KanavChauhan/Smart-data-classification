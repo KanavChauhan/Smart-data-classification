{
 "cells": [
  {
   "cell_type": "code",
   "execution_count": null,
   "metadata": {
    "id": "nine3_WGvOBo"
   },
   "outputs": [],
   "source": [
    "import numpy as np\n",
    "import pandas as pd\n",
    "import matplotlib.pyplot as plt\n",
    "import seaborn as sns"
   ]
  },
  {
   "cell_type": "code",
   "execution_count": null,
   "metadata": {
    "id": "smV4OXTxvOBr"
   },
   "outputs": [],
   "source": [
    "import struct\n",
    "import socket\n",
    "import sys\n",
    "import subprocess\n",
    "from ast import literal_eval\n",
    "from time import time\n",
    "from datetime import timedelta\n",
    "from math import sqrt, log\n",
    "import json"
   ]
  },
  {
   "cell_type": "code",
   "execution_count": null,
   "metadata": {
    "id": "mbDJSpu_vOBr",
    "outputId": "a4cce94d-b0e0-4e15-9328-7aa867559e77"
   },
   "outputs": [
    {
     "data": {
      "text/plain": [
       "Index(['generated', 'appName', 'totalSourceBytes', 'totalDestinationBytes',\n",
       "       'totalDestinationPackets', 'totalSourcePackets',\n",
       "       'sourcePayloadAsBase64', 'sourcePayloadAsUTF',\n",
       "       'destinationPayloadAsBase64', 'destinationPayloadAsUTF', 'direction',\n",
       "       'sourceTCPFlagsDescription', 'destinationTCPFlagsDescription', 'source',\n",
       "       'protocolName', 'sourcePort', 'destination', 'destinationPort',\n",
       "       'startDateTime', 'stopDateTime', 'Label'],\n",
       "      dtype='object')"
      ]
     },
     "execution_count": 6,
     "metadata": {},
     "output_type": "execute_result"
    }
   ],
   "source": [
    "df=pd.read_csv('TestbedMonJun14Flows.csv')\n"
   ]
  },
  {
   "cell_type": "code",
   "execution_count": null,
   "metadata": {
    "id": "O7TksO4hvOBs",
    "outputId": "6bf95940-6254-4daa-bf7e-32cdb3d06bdd"
   },
   "outputs": [
    {
     "data": {
      "text/plain": [
       "Index(['generated', 'appName', 'totalSourceBytes', 'totalDestinationBytes',\n",
       "       'totalDestinationPackets', 'totalSourcePackets',\n",
       "       'sourcePayloadAsBase64', 'sourcePayloadAsUTF',\n",
       "       'destinationPayloadAsBase64', 'destinationPayloadAsUTF', 'direction',\n",
       "       'sourceTCPFlagsDescription', 'destinationTCPFlagsDescription', 'source',\n",
       "       'protocolName', 'sourcePort', 'destination', 'destinationPort',\n",
       "       'startDateTime', 'stopDateTime', 'Label'],\n",
       "      dtype='object')"
      ]
     },
     "execution_count": 7,
     "metadata": {},
     "output_type": "execute_result"
    }
   ],
   "source": [
    "df1=pd.read_csv('TestbedSatJun12Flows.csv')\n",
    "df1.columns"
   ]
  },
  {
   "cell_type": "code",
   "execution_count": null,
   "metadata": {
    "id": "Sx_hMetlvOBt",
    "outputId": "0f85bf09-a5ed-45a9-b56c-1a0a9bcfd960"
   },
   "outputs": [
    {
     "data": {
      "text/plain": [
       "Index(['generated', 'appName', 'totalSourceBytes', 'totalDestinationBytes',\n",
       "       'totalDestinationPackets', 'totalSourcePackets',\n",
       "       'sourcePayloadAsBase64', 'sourcePayloadAsUTF',\n",
       "       'destinationPayloadAsBase64', 'destinationPayloadAsUTF', 'direction',\n",
       "       'sourceTCPFlagsDescription', 'destinationTCPFlagsDescription', 'source',\n",
       "       'protocolName', 'sourcePort', 'destination', 'destinationPort',\n",
       "       'startDateTime', 'stopDateTime', 'Label'],\n",
       "      dtype='object')"
      ]
     },
     "execution_count": 8,
     "metadata": {},
     "output_type": "execute_result"
    }
   ],
   "source": [
    "df2=pd.read_csv('TestbedSunJun13Flows.csv')\n",
    "df2.columns"
   ]
  },
  {
   "cell_type": "code",
   "execution_count": null,
   "metadata": {
    "id": "TCwYvypkvOBt",
    "outputId": "50553abf-d78b-4e15-9bc5-7ee3bd0b5521"
   },
   "outputs": [
    {
     "data": {
      "text/plain": [
       "Index(['generated', 'appName', 'totalSourceBytes', 'totalDestinationBytes',\n",
       "       'totalDestinationPackets', 'totalSourcePackets',\n",
       "       'sourcePayloadAsBase64', 'sourcePayloadAsUTF',\n",
       "       'destinationPayloadAsBase64', 'destinationPayloadAsUTF', 'direction',\n",
       "       'sourceTCPFlagsDescription', 'destinationTCPFlagsDescription', 'source',\n",
       "       'protocolName', 'sourcePort', 'destination', 'destinationPort',\n",
       "       'startDateTime', 'stopDateTime', 'Label'],\n",
       "      dtype='object')"
      ]
     },
     "execution_count": 9,
     "metadata": {},
     "output_type": "execute_result"
    }
   ],
   "source": [
    "df3=pd.read_csv('TestbedThuJun17Flows.csv')\n",
    "df3.columns"
   ]
  },
  {
   "cell_type": "code",
   "execution_count": null,
   "metadata": {
    "id": "CYAg1SWFvOBt",
    "outputId": "6829081e-40ef-45ff-9981-83dfab8331a0"
   },
   "outputs": [
    {
     "data": {
      "text/plain": [
       "Index(['generated', 'appName', 'totalSourceBytes', 'totalDestinationBytes',\n",
       "       'totalDestinationPackets', 'totalSourcePackets',\n",
       "       'sourcePayloadAsBase64', 'sourcePayloadAsUTF',\n",
       "       'destinationPayloadAsBase64', 'destinationPayloadAsUTF', 'direction',\n",
       "       'sourceTCPFlagsDescription', 'destinationTCPFlagsDescription', 'source',\n",
       "       'protocolName', 'sourcePort', 'destination', 'destinationPort',\n",
       "       'startDateTime', 'stopDateTime', 'Label'],\n",
       "      dtype='object')"
      ]
     },
     "execution_count": 10,
     "metadata": {},
     "output_type": "execute_result"
    }
   ],
   "source": [
    "df4=pd.read_csv('TestbedTueJun15Flows.csv')\n",
    "df4.columns"
   ]
  },
  {
   "cell_type": "code",
   "execution_count": null,
   "metadata": {
    "id": "DZtnrdhwvOBu",
    "outputId": "b715e34f-923d-482e-90c6-4852976b6fa7"
   },
   "outputs": [
    {
     "data": {
      "text/plain": [
       "Index(['generated', 'appName', 'totalSourceBytes', 'totalDestinationBytes',\n",
       "       'totalDestinationPackets', 'totalSourcePackets',\n",
       "       'sourcePayloadAsBase64', 'sourcePayloadAsUTF',\n",
       "       'destinationPayloadAsBase64', 'destinationPayloadAsUTF', 'direction',\n",
       "       'sourceTCPFlagsDescription', 'destinationTCPFlagsDescription', 'source',\n",
       "       'protocolName', 'sourcePort', 'destination', 'destinationPort',\n",
       "       'startDateTime', 'stopDateTime', 'Label'],\n",
       "      dtype='object')"
      ]
     },
     "execution_count": 11,
     "metadata": {},
     "output_type": "execute_result"
    }
   ],
   "source": [
    "df5=pd.read_csv('TestbedWedJun16Flows.csv')\n",
    "df5.columns"
   ]
  },
  {
   "cell_type": "code",
   "execution_count": null,
   "metadata": {
    "id": "wsA56te-vOBu",
    "outputId": "f2928ec8-e2c5-4c6e-8483-b78e644b1abc"
   },
   "outputs": [
    {
     "data": {
      "text/html": [
       "<div>\n",
       "<style scoped>\n",
       "    .dataframe tbody tr th:only-of-type {\n",
       "        vertical-align: middle;\n",
       "    }\n",
       "\n",
       "    .dataframe tbody tr th {\n",
       "        vertical-align: top;\n",
       "    }\n",
       "\n",
       "    .dataframe thead th {\n",
       "        text-align: right;\n",
       "    }\n",
       "</style>\n",
       "<table border=\"1\" class=\"dataframe\">\n",
       "  <thead>\n",
       "    <tr style=\"text-align: right;\">\n",
       "      <th></th>\n",
       "      <th>generated</th>\n",
       "      <th>appName</th>\n",
       "      <th>totalSourceBytes</th>\n",
       "      <th>totalDestinationBytes</th>\n",
       "      <th>totalDestinationPackets</th>\n",
       "      <th>totalSourcePackets</th>\n",
       "      <th>sourcePayloadAsBase64</th>\n",
       "      <th>sourcePayloadAsUTF</th>\n",
       "      <th>destinationPayloadAsBase64</th>\n",
       "      <th>destinationPayloadAsUTF</th>\n",
       "      <th>...</th>\n",
       "      <th>sourceTCPFlagsDescription</th>\n",
       "      <th>destinationTCPFlagsDescription</th>\n",
       "      <th>source</th>\n",
       "      <th>protocolName</th>\n",
       "      <th>sourcePort</th>\n",
       "      <th>destination</th>\n",
       "      <th>destinationPort</th>\n",
       "      <th>startDateTime</th>\n",
       "      <th>stopDateTime</th>\n",
       "      <th>Label</th>\n",
       "    </tr>\n",
       "  </thead>\n",
       "  <tbody>\n",
       "    <tr>\n",
       "      <th>0</th>\n",
       "      <td>3/11/2014 18:21</td>\n",
       "      <td>Unknown_UDP</td>\n",
       "      <td>16076</td>\n",
       "      <td>0</td>\n",
       "      <td>0</td>\n",
       "      <td>178</td>\n",
       "      <td>NaN</td>\n",
       "      <td>NaN</td>\n",
       "      <td>NaN</td>\n",
       "      <td>NaN</td>\n",
       "      <td>...</td>\n",
       "      <td>NaN</td>\n",
       "      <td>NaN</td>\n",
       "      <td>192.168.5.122</td>\n",
       "      <td>udp_ip</td>\n",
       "      <td>5353</td>\n",
       "      <td>224.0.0.251</td>\n",
       "      <td>5353</td>\n",
       "      <td>6/13/2010 23:57</td>\n",
       "      <td>6/14/2010 0:11</td>\n",
       "      <td>Normal</td>\n",
       "    </tr>\n",
       "    <tr>\n",
       "      <th>1</th>\n",
       "      <td>3/11/2014 18:21</td>\n",
       "      <td>HTTPImageTransfer</td>\n",
       "      <td>384</td>\n",
       "      <td>0</td>\n",
       "      <td>0</td>\n",
       "      <td>6</td>\n",
       "      <td>NaN</td>\n",
       "      <td>NaN</td>\n",
       "      <td>NaN</td>\n",
       "      <td>NaN</td>\n",
       "      <td>...</td>\n",
       "      <td>F,A</td>\n",
       "      <td>NaN</td>\n",
       "      <td>192.168.2.111</td>\n",
       "      <td>tcp_ip</td>\n",
       "      <td>4435</td>\n",
       "      <td>206.217.198.186</td>\n",
       "      <td>80</td>\n",
       "      <td>6/13/2010 23:58</td>\n",
       "      <td>6/14/2010 0:01</td>\n",
       "      <td>Normal</td>\n",
       "    </tr>\n",
       "    <tr>\n",
       "      <th>2</th>\n",
       "      <td>3/11/2014 18:21</td>\n",
       "      <td>DNS</td>\n",
       "      <td>171</td>\n",
       "      <td>642</td>\n",
       "      <td>4</td>\n",
       "      <td>2</td>\n",
       "      <td>NaN</td>\n",
       "      <td>NaN</td>\n",
       "      <td>NaN</td>\n",
       "      <td>NaN</td>\n",
       "      <td>...</td>\n",
       "      <td>NaN</td>\n",
       "      <td>NaN</td>\n",
       "      <td>192.168.4.119</td>\n",
       "      <td>udp_ip</td>\n",
       "      <td>4428</td>\n",
       "      <td>192.168.5.122</td>\n",
       "      <td>53</td>\n",
       "      <td>6/13/2010 23:58</td>\n",
       "      <td>6/13/2010 23:59</td>\n",
       "      <td>Normal</td>\n",
       "    </tr>\n",
       "    <tr>\n",
       "      <th>3</th>\n",
       "      <td>3/11/2014 18:21</td>\n",
       "      <td>HTTPImageTransfer</td>\n",
       "      <td>384</td>\n",
       "      <td>0</td>\n",
       "      <td>0</td>\n",
       "      <td>6</td>\n",
       "      <td>NaN</td>\n",
       "      <td>NaN</td>\n",
       "      <td>NaN</td>\n",
       "      <td>NaN</td>\n",
       "      <td>...</td>\n",
       "      <td>F,A</td>\n",
       "      <td>NaN</td>\n",
       "      <td>192.168.4.119</td>\n",
       "      <td>tcp_ip</td>\n",
       "      <td>3639</td>\n",
       "      <td>219.94.203.105</td>\n",
       "      <td>80</td>\n",
       "      <td>6/13/2010 23:58</td>\n",
       "      <td>6/14/2010 0:00</td>\n",
       "      <td>Normal</td>\n",
       "    </tr>\n",
       "    <tr>\n",
       "      <th>4</th>\n",
       "      <td>3/11/2014 18:21</td>\n",
       "      <td>HTTPImageTransfer</td>\n",
       "      <td>186</td>\n",
       "      <td>128</td>\n",
       "      <td>2</td>\n",
       "      <td>2</td>\n",
       "      <td>NaN</td>\n",
       "      <td>NaN</td>\n",
       "      <td>NaN</td>\n",
       "      <td>NaN</td>\n",
       "      <td>...</td>\n",
       "      <td>F,P,A</td>\n",
       "      <td>R</td>\n",
       "      <td>192.168.4.119</td>\n",
       "      <td>tcp_ip</td>\n",
       "      <td>3641</td>\n",
       "      <td>98.137.80.50</td>\n",
       "      <td>80</td>\n",
       "      <td>6/13/2010 23:58</td>\n",
       "      <td>6/13/2010 23:59</td>\n",
       "      <td>Normal</td>\n",
       "    </tr>\n",
       "    <tr>\n",
       "      <th>...</th>\n",
       "      <td>...</td>\n",
       "      <td>...</td>\n",
       "      <td>...</td>\n",
       "      <td>...</td>\n",
       "      <td>...</td>\n",
       "      <td>...</td>\n",
       "      <td>...</td>\n",
       "      <td>...</td>\n",
       "      <td>...</td>\n",
       "      <td>...</td>\n",
       "      <td>...</td>\n",
       "      <td>...</td>\n",
       "      <td>...</td>\n",
       "      <td>...</td>\n",
       "      <td>...</td>\n",
       "      <td>...</td>\n",
       "      <td>...</td>\n",
       "      <td>...</td>\n",
       "      <td>...</td>\n",
       "      <td>...</td>\n",
       "      <td>...</td>\n",
       "    </tr>\n",
       "    <tr>\n",
       "      <th>522258</th>\n",
       "      <td>3/11/2014 17:12</td>\n",
       "      <td>HTTPWeb</td>\n",
       "      <td>424</td>\n",
       "      <td>6264</td>\n",
       "      <td>6</td>\n",
       "      <td>6</td>\n",
       "      <td>R0VUIC9mYXEuaHRtbCBIVFRQLzEuMQ0KSG9zdDogc21hcn...</td>\n",
       "      <td>GET /faq.html HTTP/1.1Host: smart-c.jp</td>\n",
       "      <td>SFRUUC8xLjEgMjAwIE9LDQpEYXRlOiBUaHUsIDE3IEp1bi...</td>\n",
       "      <td>HTTP/1.1 200 OKDate: Thu, 17 Jun 2010 02:59:40...</td>\n",
       "      <td>...</td>\n",
       "      <td>S,P,A</td>\n",
       "      <td>S,P,A</td>\n",
       "      <td>192.168.2.107</td>\n",
       "      <td>tcp_ip</td>\n",
       "      <td>3469</td>\n",
       "      <td>125.6.164.51</td>\n",
       "      <td>80</td>\n",
       "      <td>6/16/2010 23:58</td>\n",
       "      <td>6/16/2010 23:58</td>\n",
       "      <td>Normal</td>\n",
       "    </tr>\n",
       "    <tr>\n",
       "      <th>522259</th>\n",
       "      <td>3/11/2014 17:12</td>\n",
       "      <td>HTTPWeb</td>\n",
       "      <td>495</td>\n",
       "      <td>3164</td>\n",
       "      <td>5</td>\n",
       "      <td>6</td>\n",
       "      <td>NaN</td>\n",
       "      <td>NaN</td>\n",
       "      <td>NaN</td>\n",
       "      <td>NaN</td>\n",
       "      <td>...</td>\n",
       "      <td>F,S,P,A</td>\n",
       "      <td>F,S,P,A</td>\n",
       "      <td>192.168.1.105</td>\n",
       "      <td>tcp_ip</td>\n",
       "      <td>37221</td>\n",
       "      <td>203.73.24.75</td>\n",
       "      <td>80</td>\n",
       "      <td>6/16/2010 23:58</td>\n",
       "      <td>6/16/2010 23:58</td>\n",
       "      <td>Normal</td>\n",
       "    </tr>\n",
       "    <tr>\n",
       "      <th>522260</th>\n",
       "      <td>3/11/2014 17:12</td>\n",
       "      <td>DNS</td>\n",
       "      <td>91</td>\n",
       "      <td>288</td>\n",
       "      <td>1</td>\n",
       "      <td>1</td>\n",
       "      <td>54cBAAABAAAAAAABBGJsb2cHdHdpdHRlcgNjb20AAAEAAQ...</td>\n",
       "      <td>......blog.twitter.com..)..</td>\n",
       "      <td>54eBgAABAAMABAAFBGJsb2cHdHdpdHRlcgNjb20AAAEAAc...</td>\n",
       "      <td>.........blog.twitter.com......&lt;.ghs.google......</td>\n",
       "      <td>...</td>\n",
       "      <td>NaN</td>\n",
       "      <td>NaN</td>\n",
       "      <td>192.168.5.122</td>\n",
       "      <td>udp_ip</td>\n",
       "      <td>24145</td>\n",
       "      <td>198.164.30.2</td>\n",
       "      <td>53</td>\n",
       "      <td>6/16/2010 23:58</td>\n",
       "      <td>6/16/2010 23:58</td>\n",
       "      <td>Normal</td>\n",
       "    </tr>\n",
       "    <tr>\n",
       "      <th>522261</th>\n",
       "      <td>3/11/2014 17:12</td>\n",
       "      <td>DNS</td>\n",
       "      <td>91</td>\n",
       "      <td>243</td>\n",
       "      <td>1</td>\n",
       "      <td>1</td>\n",
       "      <td>LnYBAAABAAAAAAABA2docwFsBmdvb2dsZQNjb20AAAEAAQ...</td>\n",
       "      <td>.v....ghs.l.google.com..)..</td>\n",
       "      <td>LnaBgAABAAEABAAFA2docwFsBmdvb2dsZQNjb20AAAEAAc...</td>\n",
       "      <td>.v.......ghs.l.google.com......Z.J}]y......l.....</td>\n",
       "      <td>...</td>\n",
       "      <td>NaN</td>\n",
       "      <td>NaN</td>\n",
       "      <td>192.168.5.122</td>\n",
       "      <td>udp_ip</td>\n",
       "      <td>10960</td>\n",
       "      <td>198.164.30.2</td>\n",
       "      <td>53</td>\n",
       "      <td>6/16/2010 23:58</td>\n",
       "      <td>6/16/2010 23:58</td>\n",
       "      <td>Normal</td>\n",
       "    </tr>\n",
       "    <tr>\n",
       "      <th>522262</th>\n",
       "      <td>3/11/2014 17:12</td>\n",
       "      <td>HTTPWeb</td>\n",
       "      <td>273</td>\n",
       "      <td>66</td>\n",
       "      <td>1</td>\n",
       "      <td>3</td>\n",
       "      <td>NaN</td>\n",
       "      <td>NaN</td>\n",
       "      <td>NaN</td>\n",
       "      <td>NaN</td>\n",
       "      <td>...</td>\n",
       "      <td>S,P,A</td>\n",
       "      <td>S,A</td>\n",
       "      <td>192.168.3.115</td>\n",
       "      <td>tcp_ip</td>\n",
       "      <td>1048</td>\n",
       "      <td>203.73.24.75</td>\n",
       "      <td>80</td>\n",
       "      <td>6/16/2010 23:58</td>\n",
       "      <td>6/16/2010 23:58</td>\n",
       "      <td>Normal</td>\n",
       "    </tr>\n",
       "  </tbody>\n",
       "</table>\n",
       "<p>2071657 rows × 21 columns</p>\n",
       "</div>"
      ],
      "text/plain": [
       "              generated            appName  totalSourceBytes  \\\n",
       "0       3/11/2014 18:21        Unknown_UDP             16076   \n",
       "1       3/11/2014 18:21  HTTPImageTransfer               384   \n",
       "2       3/11/2014 18:21                DNS               171   \n",
       "3       3/11/2014 18:21  HTTPImageTransfer               384   \n",
       "4       3/11/2014 18:21  HTTPImageTransfer               186   \n",
       "...                 ...                ...               ...   \n",
       "522258  3/11/2014 17:12            HTTPWeb               424   \n",
       "522259  3/11/2014 17:12            HTTPWeb               495   \n",
       "522260  3/11/2014 17:12                DNS                91   \n",
       "522261  3/11/2014 17:12                DNS                91   \n",
       "522262  3/11/2014 17:12            HTTPWeb               273   \n",
       "\n",
       "        totalDestinationBytes  totalDestinationPackets  totalSourcePackets  \\\n",
       "0                           0                        0                 178   \n",
       "1                           0                        0                   6   \n",
       "2                         642                        4                   2   \n",
       "3                           0                        0                   6   \n",
       "4                         128                        2                   2   \n",
       "...                       ...                      ...                 ...   \n",
       "522258                   6264                        6                   6   \n",
       "522259                   3164                        5                   6   \n",
       "522260                    288                        1                   1   \n",
       "522261                    243                        1                   1   \n",
       "522262                     66                        1                   3   \n",
       "\n",
       "                                    sourcePayloadAsBase64  \\\n",
       "0                                                     NaN   \n",
       "1                                                     NaN   \n",
       "2                                                     NaN   \n",
       "3                                                     NaN   \n",
       "4                                                     NaN   \n",
       "...                                                   ...   \n",
       "522258  R0VUIC9mYXEuaHRtbCBIVFRQLzEuMQ0KSG9zdDogc21hcn...   \n",
       "522259                                                NaN   \n",
       "522260  54cBAAABAAAAAAABBGJsb2cHdHdpdHRlcgNjb20AAAEAAQ...   \n",
       "522261  LnYBAAABAAAAAAABA2docwFsBmdvb2dsZQNjb20AAAEAAQ...   \n",
       "522262                                                NaN   \n",
       "\n",
       "                            sourcePayloadAsUTF  \\\n",
       "0                                          NaN   \n",
       "1                                          NaN   \n",
       "2                                          NaN   \n",
       "3                                          NaN   \n",
       "4                                          NaN   \n",
       "...                                        ...   \n",
       "522258  GET /faq.html HTTP/1.1Host: smart-c.jp   \n",
       "522259                                     NaN   \n",
       "522260             ......blog.twitter.com..)..   \n",
       "522261             .v....ghs.l.google.com..)..   \n",
       "522262                                     NaN   \n",
       "\n",
       "                               destinationPayloadAsBase64  \\\n",
       "0                                                     NaN   \n",
       "1                                                     NaN   \n",
       "2                                                     NaN   \n",
       "3                                                     NaN   \n",
       "4                                                     NaN   \n",
       "...                                                   ...   \n",
       "522258  SFRUUC8xLjEgMjAwIE9LDQpEYXRlOiBUaHUsIDE3IEp1bi...   \n",
       "522259                                                NaN   \n",
       "522260  54eBgAABAAMABAAFBGJsb2cHdHdpdHRlcgNjb20AAAEAAc...   \n",
       "522261  LnaBgAABAAEABAAFA2docwFsBmdvb2dsZQNjb20AAAEAAc...   \n",
       "522262                                                NaN   \n",
       "\n",
       "                                  destinationPayloadAsUTF  ...  \\\n",
       "0                                                     NaN  ...   \n",
       "1                                                     NaN  ...   \n",
       "2                                                     NaN  ...   \n",
       "3                                                     NaN  ...   \n",
       "4                                                     NaN  ...   \n",
       "...                                                   ...  ...   \n",
       "522258  HTTP/1.1 200 OKDate: Thu, 17 Jun 2010 02:59:40...  ...   \n",
       "522259                                                NaN  ...   \n",
       "522260  .........blog.twitter.com......<.ghs.google......  ...   \n",
       "522261  .v.......ghs.l.google.com......Z.J}]y......l.....  ...   \n",
       "522262                                                NaN  ...   \n",
       "\n",
       "       sourceTCPFlagsDescription destinationTCPFlagsDescription  \\\n",
       "0                            NaN                            NaN   \n",
       "1                            F,A                            NaN   \n",
       "2                            NaN                            NaN   \n",
       "3                            F,A                            NaN   \n",
       "4                          F,P,A                              R   \n",
       "...                          ...                            ...   \n",
       "522258                     S,P,A                          S,P,A   \n",
       "522259                   F,S,P,A                        F,S,P,A   \n",
       "522260                       NaN                            NaN   \n",
       "522261                       NaN                            NaN   \n",
       "522262                     S,P,A                            S,A   \n",
       "\n",
       "               source protocolName sourcePort      destination  \\\n",
       "0       192.168.5.122       udp_ip       5353      224.0.0.251   \n",
       "1       192.168.2.111       tcp_ip       4435  206.217.198.186   \n",
       "2       192.168.4.119       udp_ip       4428    192.168.5.122   \n",
       "3       192.168.4.119       tcp_ip       3639   219.94.203.105   \n",
       "4       192.168.4.119       tcp_ip       3641     98.137.80.50   \n",
       "...               ...          ...        ...              ...   \n",
       "522258  192.168.2.107       tcp_ip       3469     125.6.164.51   \n",
       "522259  192.168.1.105       tcp_ip      37221     203.73.24.75   \n",
       "522260  192.168.5.122       udp_ip      24145     198.164.30.2   \n",
       "522261  192.168.5.122       udp_ip      10960     198.164.30.2   \n",
       "522262  192.168.3.115       tcp_ip       1048     203.73.24.75   \n",
       "\n",
       "       destinationPort    startDateTime     stopDateTime   Label  \n",
       "0                 5353  6/13/2010 23:57   6/14/2010 0:11  Normal  \n",
       "1                   80  6/13/2010 23:58   6/14/2010 0:01  Normal  \n",
       "2                   53  6/13/2010 23:58  6/13/2010 23:59  Normal  \n",
       "3                   80  6/13/2010 23:58   6/14/2010 0:00  Normal  \n",
       "4                   80  6/13/2010 23:58  6/13/2010 23:59  Normal  \n",
       "...                ...              ...              ...     ...  \n",
       "522258              80  6/16/2010 23:58  6/16/2010 23:58  Normal  \n",
       "522259              80  6/16/2010 23:58  6/16/2010 23:58  Normal  \n",
       "522260              53  6/16/2010 23:58  6/16/2010 23:58  Normal  \n",
       "522261              53  6/16/2010 23:58  6/16/2010 23:58  Normal  \n",
       "522262              80  6/16/2010 23:58  6/16/2010 23:58  Normal  \n",
       "\n",
       "[2071657 rows x 21 columns]"
      ]
     },
     "execution_count": 12,
     "metadata": {},
     "output_type": "execute_result"
    }
   ],
   "source": [
    "frames=[df,df1,df2,df3,df4,df5]\n",
    "result = pd.concat(frames)\n",
    "result"
   ]
  },
  {
   "cell_type": "code",
   "execution_count": null,
   "metadata": {
    "id": "URQZboq5vOBv"
   },
   "outputs": [],
   "source": [
    "result.drop(axis=1, columns=[\"sourcePayloadAsBase64\", \"sourcePayloadAsUTF\",\n",
    "                                \"destinationPayloadAsBase64\", \"destinationPayloadAsUTF\"], inplace=True)"
   ]
  },
  {
   "cell_type": "code",
   "execution_count": null,
   "metadata": {
    "id": "5uE2rhpjvOBv"
   },
   "outputs": [],
   "source": [
    "result.drop(axis=1, columns='generated', inplace=True)\n"
   ]
  },
  {
   "cell_type": "code",
   "execution_count": null,
   "metadata": {
    "id": "vRN7OjVNvOBv"
   },
   "outputs": [],
   "source": [
    "result[\"source\"] = result[\"source\"].apply(\n",
    "    lambda ip: struct.unpack(\"!I\", socket.inet_aton(ip))[0]\n",
    ")"
   ]
  },
  {
   "cell_type": "code",
   "execution_count": null,
   "metadata": {
    "id": "ZWTOBrt4vOBv"
   },
   "outputs": [],
   "source": [
    "result[\"destination\"] = result[\"destination\"].apply(\n",
    "    lambda ip: struct.unpack(\"!I\", socket.inet_aton(ip))[0]\n",
    ")"
   ]
  },
  {
   "cell_type": "code",
   "execution_count": null,
   "metadata": {
    "id": "g6wkHMVAvOBv"
   },
   "outputs": [],
   "source": [
    "def process_time(time):\n",
    "    time = time.split(\" \")[-1]\n",
    "    h, m = time.split(\":\")\n",
    "    return 3600*int(h)+60*int(m)\n",
    "\n",
    "\n",
    "result[\"startDateTime\"] = result[\"startDateTime\"].apply(\n",
    "    lambda time: process_time(time)\n",
    ")\n",
    "\n",
    "result[\"stopDateTime\"] = result[\"stopDateTime\"].apply(\n",
    "    lambda time: process_time(time)\n",
    ")"
   ]
  },
  {
   "cell_type": "code",
   "execution_count": null,
   "metadata": {
    "id": "cmdRDIMNvOBw"
   },
   "outputs": [],
   "source": [
    "def flags_transform(flags):\n",
    "    value = 0\n",
    "    if type(flags) is str:\n",
    "        flags = flags.replace(\" \", \"\")\n",
    "        for c in flags:\n",
    "            if c != ',':\n",
    "                value += ord(c)\n",
    "    return value\n",
    "\n",
    "\n",
    "result[\"sourceTCPFlagsDescription\"] = result[\"sourceTCPFlagsDescription\"].apply(\n",
    "    lambda flags: flags_transform(flags)\n",
    ")\n",
    "\n",
    "result[\"destinationTCPFlagsDescription\"] = result[\"destinationTCPFlagsDescription\"].apply(\n",
    "    lambda flags: flags_transform(flags)\n",
    ")\n"
   ]
  },
  {
   "cell_type": "code",
   "execution_count": null,
   "metadata": {
    "id": "23we7W4uvOBw"
   },
   "outputs": [],
   "source": [
    "result[\"protocolName\"] = result[\"protocolName\"].astype(\"category\")\n",
    "result[\"protocolName\"] = result[\"protocolName\"].cat.codes\n",
    "result[\"appName\"] = result[\"appName\"].astype(\"category\")\n",
    "result[\"appName\"] = result[\"appName\"].cat.codes\n",
    "result[\"direction\"] = result[\"direction\"].astype(\"category\")\n",
    "result[\"direction\"] = result[\"direction\"].cat.codes"
   ]
  },
  {
   "cell_type": "code",
   "execution_count": null,
   "metadata": {
    "id": "4WoQGTm9vOBw"
   },
   "outputs": [],
   "source": [
    "attack_dict = {\"Normal\": 0, \"Attack\": 1}\n",
    "result[\"Label\"] = result[\"Label\"].apply(\n",
    "    lambda x: attack_dict[x]\n",
    ")"
   ]
  },
  {
   "cell_type": "code",
   "execution_count": null,
   "metadata": {
    "id": "nTHf8eh5vOBw"
   },
   "outputs": [],
   "source": [
    "result= result.fillna(0)"
   ]
  },
  {
   "cell_type": "code",
   "execution_count": null,
   "metadata": {
    "id": "wfAk6YPbvOBw",
    "outputId": "ad1bab03-2f99-4a02-b145-5bb06748808c"
   },
   "outputs": [
    {
     "data": {
      "text/html": [
       "<div>\n",
       "<style scoped>\n",
       "    .dataframe tbody tr th:only-of-type {\n",
       "        vertical-align: middle;\n",
       "    }\n",
       "\n",
       "    .dataframe tbody tr th {\n",
       "        vertical-align: top;\n",
       "    }\n",
       "\n",
       "    .dataframe thead th {\n",
       "        text-align: right;\n",
       "    }\n",
       "</style>\n",
       "<table border=\"1\" class=\"dataframe\">\n",
       "  <thead>\n",
       "    <tr style=\"text-align: right;\">\n",
       "      <th></th>\n",
       "      <th>appName</th>\n",
       "      <th>totalSourceBytes</th>\n",
       "      <th>totalDestinationBytes</th>\n",
       "      <th>totalDestinationPackets</th>\n",
       "      <th>totalSourcePackets</th>\n",
       "      <th>direction</th>\n",
       "      <th>sourceTCPFlagsDescription</th>\n",
       "      <th>destinationTCPFlagsDescription</th>\n",
       "      <th>source</th>\n",
       "      <th>protocolName</th>\n",
       "      <th>sourcePort</th>\n",
       "      <th>destination</th>\n",
       "      <th>destinationPort</th>\n",
       "      <th>startDateTime</th>\n",
       "      <th>stopDateTime</th>\n",
       "      <th>Label</th>\n",
       "    </tr>\n",
       "  </thead>\n",
       "  <tbody>\n",
       "    <tr>\n",
       "      <th>0</th>\n",
       "      <td>88</td>\n",
       "      <td>16076</td>\n",
       "      <td>0</td>\n",
       "      <td>0</td>\n",
       "      <td>178</td>\n",
       "      <td>1</td>\n",
       "      <td>0</td>\n",
       "      <td>0</td>\n",
       "      <td>3232236922</td>\n",
       "      <td>5</td>\n",
       "      <td>5353</td>\n",
       "      <td>3758096635</td>\n",
       "      <td>5353</td>\n",
       "      <td>86220</td>\n",
       "      <td>660</td>\n",
       "      <td>0</td>\n",
       "    </tr>\n",
       "    <tr>\n",
       "      <th>1</th>\n",
       "      <td>19</td>\n",
       "      <td>384</td>\n",
       "      <td>0</td>\n",
       "      <td>0</td>\n",
       "      <td>6</td>\n",
       "      <td>1</td>\n",
       "      <td>135</td>\n",
       "      <td>0</td>\n",
       "      <td>3232236143</td>\n",
       "      <td>4</td>\n",
       "      <td>4435</td>\n",
       "      <td>3470378682</td>\n",
       "      <td>80</td>\n",
       "      <td>86280</td>\n",
       "      <td>60</td>\n",
       "      <td>0</td>\n",
       "    </tr>\n",
       "    <tr>\n",
       "      <th>2</th>\n",
       "      <td>9</td>\n",
       "      <td>171</td>\n",
       "      <td>642</td>\n",
       "      <td>4</td>\n",
       "      <td>2</td>\n",
       "      <td>0</td>\n",
       "      <td>0</td>\n",
       "      <td>0</td>\n",
       "      <td>3232236663</td>\n",
       "      <td>5</td>\n",
       "      <td>4428</td>\n",
       "      <td>3232236922</td>\n",
       "      <td>53</td>\n",
       "      <td>86280</td>\n",
       "      <td>86340</td>\n",
       "      <td>0</td>\n",
       "    </tr>\n",
       "    <tr>\n",
       "      <th>3</th>\n",
       "      <td>19</td>\n",
       "      <td>384</td>\n",
       "      <td>0</td>\n",
       "      <td>0</td>\n",
       "      <td>6</td>\n",
       "      <td>1</td>\n",
       "      <td>135</td>\n",
       "      <td>0</td>\n",
       "      <td>3232236663</td>\n",
       "      <td>4</td>\n",
       "      <td>3639</td>\n",
       "      <td>3680422761</td>\n",
       "      <td>80</td>\n",
       "      <td>86280</td>\n",
       "      <td>0</td>\n",
       "      <td>0</td>\n",
       "    </tr>\n",
       "    <tr>\n",
       "      <th>4</th>\n",
       "      <td>19</td>\n",
       "      <td>186</td>\n",
       "      <td>128</td>\n",
       "      <td>2</td>\n",
       "      <td>2</td>\n",
       "      <td>1</td>\n",
       "      <td>215</td>\n",
       "      <td>82</td>\n",
       "      <td>3232236663</td>\n",
       "      <td>4</td>\n",
       "      <td>3641</td>\n",
       "      <td>1653166130</td>\n",
       "      <td>80</td>\n",
       "      <td>86280</td>\n",
       "      <td>86340</td>\n",
       "      <td>0</td>\n",
       "    </tr>\n",
       "    <tr>\n",
       "      <th>...</th>\n",
       "      <td>...</td>\n",
       "      <td>...</td>\n",
       "      <td>...</td>\n",
       "      <td>...</td>\n",
       "      <td>...</td>\n",
       "      <td>...</td>\n",
       "      <td>...</td>\n",
       "      <td>...</td>\n",
       "      <td>...</td>\n",
       "      <td>...</td>\n",
       "      <td>...</td>\n",
       "      <td>...</td>\n",
       "      <td>...</td>\n",
       "      <td>...</td>\n",
       "      <td>...</td>\n",
       "      <td>...</td>\n",
       "    </tr>\n",
       "    <tr>\n",
       "      <th>522258</th>\n",
       "      <td>20</td>\n",
       "      <td>424</td>\n",
       "      <td>6264</td>\n",
       "      <td>6</td>\n",
       "      <td>6</td>\n",
       "      <td>1</td>\n",
       "      <td>228</td>\n",
       "      <td>228</td>\n",
       "      <td>3232236139</td>\n",
       "      <td>4</td>\n",
       "      <td>3469</td>\n",
       "      <td>2097587251</td>\n",
       "      <td>80</td>\n",
       "      <td>86280</td>\n",
       "      <td>86280</td>\n",
       "      <td>0</td>\n",
       "    </tr>\n",
       "    <tr>\n",
       "      <th>522259</th>\n",
       "      <td>20</td>\n",
       "      <td>495</td>\n",
       "      <td>3164</td>\n",
       "      <td>5</td>\n",
       "      <td>6</td>\n",
       "      <td>1</td>\n",
       "      <td>298</td>\n",
       "      <td>298</td>\n",
       "      <td>3232235881</td>\n",
       "      <td>4</td>\n",
       "      <td>37221</td>\n",
       "      <td>3410565195</td>\n",
       "      <td>80</td>\n",
       "      <td>86280</td>\n",
       "      <td>86280</td>\n",
       "      <td>0</td>\n",
       "    </tr>\n",
       "    <tr>\n",
       "      <th>522260</th>\n",
       "      <td>9</td>\n",
       "      <td>91</td>\n",
       "      <td>288</td>\n",
       "      <td>1</td>\n",
       "      <td>1</td>\n",
       "      <td>1</td>\n",
       "      <td>0</td>\n",
       "      <td>0</td>\n",
       "      <td>3232236922</td>\n",
       "      <td>5</td>\n",
       "      <td>24145</td>\n",
       "      <td>3332644354</td>\n",
       "      <td>53</td>\n",
       "      <td>86280</td>\n",
       "      <td>86280</td>\n",
       "      <td>0</td>\n",
       "    </tr>\n",
       "    <tr>\n",
       "      <th>522261</th>\n",
       "      <td>9</td>\n",
       "      <td>91</td>\n",
       "      <td>243</td>\n",
       "      <td>1</td>\n",
       "      <td>1</td>\n",
       "      <td>1</td>\n",
       "      <td>0</td>\n",
       "      <td>0</td>\n",
       "      <td>3232236922</td>\n",
       "      <td>5</td>\n",
       "      <td>10960</td>\n",
       "      <td>3332644354</td>\n",
       "      <td>53</td>\n",
       "      <td>86280</td>\n",
       "      <td>86280</td>\n",
       "      <td>0</td>\n",
       "    </tr>\n",
       "    <tr>\n",
       "      <th>522262</th>\n",
       "      <td>20</td>\n",
       "      <td>273</td>\n",
       "      <td>66</td>\n",
       "      <td>1</td>\n",
       "      <td>3</td>\n",
       "      <td>1</td>\n",
       "      <td>228</td>\n",
       "      <td>148</td>\n",
       "      <td>3232236403</td>\n",
       "      <td>4</td>\n",
       "      <td>1048</td>\n",
       "      <td>3410565195</td>\n",
       "      <td>80</td>\n",
       "      <td>86280</td>\n",
       "      <td>86280</td>\n",
       "      <td>0</td>\n",
       "    </tr>\n",
       "  </tbody>\n",
       "</table>\n",
       "<p>2071657 rows × 16 columns</p>\n",
       "</div>"
      ],
      "text/plain": [
       "        appName  totalSourceBytes  totalDestinationBytes  \\\n",
       "0            88             16076                      0   \n",
       "1            19               384                      0   \n",
       "2             9               171                    642   \n",
       "3            19               384                      0   \n",
       "4            19               186                    128   \n",
       "...         ...               ...                    ...   \n",
       "522258       20               424                   6264   \n",
       "522259       20               495                   3164   \n",
       "522260        9                91                    288   \n",
       "522261        9                91                    243   \n",
       "522262       20               273                     66   \n",
       "\n",
       "        totalDestinationPackets  totalSourcePackets  direction  \\\n",
       "0                             0                 178          1   \n",
       "1                             0                   6          1   \n",
       "2                             4                   2          0   \n",
       "3                             0                   6          1   \n",
       "4                             2                   2          1   \n",
       "...                         ...                 ...        ...   \n",
       "522258                        6                   6          1   \n",
       "522259                        5                   6          1   \n",
       "522260                        1                   1          1   \n",
       "522261                        1                   1          1   \n",
       "522262                        1                   3          1   \n",
       "\n",
       "        sourceTCPFlagsDescription  destinationTCPFlagsDescription      source  \\\n",
       "0                               0                               0  3232236922   \n",
       "1                             135                               0  3232236143   \n",
       "2                               0                               0  3232236663   \n",
       "3                             135                               0  3232236663   \n",
       "4                             215                              82  3232236663   \n",
       "...                           ...                             ...         ...   \n",
       "522258                        228                             228  3232236139   \n",
       "522259                        298                             298  3232235881   \n",
       "522260                          0                               0  3232236922   \n",
       "522261                          0                               0  3232236922   \n",
       "522262                        228                             148  3232236403   \n",
       "\n",
       "        protocolName  sourcePort  destination  destinationPort  startDateTime  \\\n",
       "0                  5        5353   3758096635             5353          86220   \n",
       "1                  4        4435   3470378682               80          86280   \n",
       "2                  5        4428   3232236922               53          86280   \n",
       "3                  4        3639   3680422761               80          86280   \n",
       "4                  4        3641   1653166130               80          86280   \n",
       "...              ...         ...          ...              ...            ...   \n",
       "522258             4        3469   2097587251               80          86280   \n",
       "522259             4       37221   3410565195               80          86280   \n",
       "522260             5       24145   3332644354               53          86280   \n",
       "522261             5       10960   3332644354               53          86280   \n",
       "522262             4        1048   3410565195               80          86280   \n",
       "\n",
       "        stopDateTime  Label  \n",
       "0                660      0  \n",
       "1                 60      0  \n",
       "2              86340      0  \n",
       "3                  0      0  \n",
       "4              86340      0  \n",
       "...              ...    ...  \n",
       "522258         86280      0  \n",
       "522259         86280      0  \n",
       "522260         86280      0  \n",
       "522261         86280      0  \n",
       "522262         86280      0  \n",
       "\n",
       "[2071657 rows x 16 columns]"
      ]
     },
     "execution_count": 22,
     "metadata": {},
     "output_type": "execute_result"
    }
   ],
   "source": [
    "result"
   ]
  },
  {
   "cell_type": "code",
   "execution_count": null,
   "metadata": {
    "id": "bOFZdWT5vOBw",
    "outputId": "0afa229d-4988-4016-f061-448f33e11c8b"
   },
   "outputs": [
    {
     "data": {
      "text/plain": [
       "Index(['appName', 'totalSourceBytes', 'totalDestinationBytes',\n",
       "       'totalDestinationPackets', 'totalSourcePackets', 'direction',\n",
       "       'sourceTCPFlagsDescription', 'destinationTCPFlagsDescription', 'source',\n",
       "       'protocolName', 'sourcePort', 'destination', 'destinationPort',\n",
       "       'startDateTime', 'stopDateTime', 'Label'],\n",
       "      dtype='object')"
      ]
     },
     "execution_count": 23,
     "metadata": {},
     "output_type": "execute_result"
    }
   ],
   "source": [
    "result.columns"
   ]
  },
  {
   "cell_type": "code",
   "execution_count": null,
   "metadata": {
    "id": "-AVD-RXAvOBw"
   },
   "outputs": [],
   "source": [
    "X=result.drop('Label',axis=1)\n",
    "y=result['Label']\n"
   ]
  },
  {
   "cell_type": "code",
   "execution_count": null,
   "metadata": {
    "id": "f7AnMxvUvOBw",
    "outputId": "497ee0c2-24aa-4fa9-f689-53de9e6fbf2a"
   },
   "outputs": [
    {
     "data": {
      "text/html": [
       "<div>\n",
       "<style scoped>\n",
       "    .dataframe tbody tr th:only-of-type {\n",
       "        vertical-align: middle;\n",
       "    }\n",
       "\n",
       "    .dataframe tbody tr th {\n",
       "        vertical-align: top;\n",
       "    }\n",
       "\n",
       "    .dataframe thead th {\n",
       "        text-align: right;\n",
       "    }\n",
       "</style>\n",
       "<table border=\"1\" class=\"dataframe\">\n",
       "  <thead>\n",
       "    <tr style=\"text-align: right;\">\n",
       "      <th></th>\n",
       "      <th>appName</th>\n",
       "      <th>totalSourceBytes</th>\n",
       "      <th>totalDestinationBytes</th>\n",
       "      <th>totalDestinationPackets</th>\n",
       "      <th>totalSourcePackets</th>\n",
       "      <th>direction</th>\n",
       "      <th>sourceTCPFlagsDescription</th>\n",
       "      <th>destinationTCPFlagsDescription</th>\n",
       "      <th>source</th>\n",
       "      <th>protocolName</th>\n",
       "      <th>sourcePort</th>\n",
       "      <th>destination</th>\n",
       "      <th>destinationPort</th>\n",
       "      <th>startDateTime</th>\n",
       "      <th>stopDateTime</th>\n",
       "    </tr>\n",
       "  </thead>\n",
       "  <tbody>\n",
       "    <tr>\n",
       "      <th>0</th>\n",
       "      <td>3.094875</td>\n",
       "      <td>0.018110</td>\n",
       "      <td>-0.029051</td>\n",
       "      <td>-0.030809</td>\n",
       "      <td>0.236801</td>\n",
       "      <td>0.331411</td>\n",
       "      <td>-1.734151</td>\n",
       "      <td>-1.636230</td>\n",
       "      <td>0.082591</td>\n",
       "      <td>1.690989</td>\n",
       "      <td>-0.436112</td>\n",
       "      <td>1.278776</td>\n",
       "      <td>0.402505</td>\n",
       "      <td>2.093788</td>\n",
       "      <td>-2.089937</td>\n",
       "    </tr>\n",
       "    <tr>\n",
       "      <th>1</th>\n",
       "      <td>-0.277782</td>\n",
       "      <td>-0.002763</td>\n",
       "      <td>-0.029051</td>\n",
       "      <td>-0.030809</td>\n",
       "      <td>-0.020722</td>\n",
       "      <td>0.331411</td>\n",
       "      <td>-0.621615</td>\n",
       "      <td>-1.636230</td>\n",
       "      <td>0.082586</td>\n",
       "      <td>-0.387268</td>\n",
       "      <td>-0.481686</td>\n",
       "      <td>0.989074</td>\n",
       "      <td>-0.208980</td>\n",
       "      <td>2.096720</td>\n",
       "      <td>-2.119263</td>\n",
       "    </tr>\n",
       "    <tr>\n",
       "      <th>2</th>\n",
       "      <td>-0.766573</td>\n",
       "      <td>-0.003046</td>\n",
       "      <td>-0.028511</td>\n",
       "      <td>-0.026742</td>\n",
       "      <td>-0.026711</td>\n",
       "      <td>-2.490012</td>\n",
       "      <td>-1.734151</td>\n",
       "      <td>-1.636230</td>\n",
       "      <td>0.082589</td>\n",
       "      <td>1.690989</td>\n",
       "      <td>-0.482034</td>\n",
       "      <td>0.749291</td>\n",
       "      <td>-0.212111</td>\n",
       "      <td>2.096720</td>\n",
       "      <td>2.097873</td>\n",
       "    </tr>\n",
       "    <tr>\n",
       "      <th>3</th>\n",
       "      <td>-0.277782</td>\n",
       "      <td>-0.002763</td>\n",
       "      <td>-0.029051</td>\n",
       "      <td>-0.030809</td>\n",
       "      <td>-0.020722</td>\n",
       "      <td>0.331411</td>\n",
       "      <td>-0.621615</td>\n",
       "      <td>-1.636230</td>\n",
       "      <td>0.082589</td>\n",
       "      <td>-0.387268</td>\n",
       "      <td>-0.521204</td>\n",
       "      <td>1.200566</td>\n",
       "      <td>-0.208980</td>\n",
       "      <td>2.096720</td>\n",
       "      <td>-2.122196</td>\n",
       "    </tr>\n",
       "    <tr>\n",
       "      <th>4</th>\n",
       "      <td>-0.277782</td>\n",
       "      <td>-0.003026</td>\n",
       "      <td>-0.028944</td>\n",
       "      <td>-0.028776</td>\n",
       "      <td>-0.026711</td>\n",
       "      <td>0.331411</td>\n",
       "      <td>0.037665</td>\n",
       "      <td>-1.009394</td>\n",
       "      <td>0.082589</td>\n",
       "      <td>-0.387268</td>\n",
       "      <td>-0.521105</td>\n",
       "      <td>-0.840665</td>\n",
       "      <td>-0.208980</td>\n",
       "      <td>2.096720</td>\n",
       "      <td>2.097873</td>\n",
       "    </tr>\n",
       "    <tr>\n",
       "      <th>...</th>\n",
       "      <td>...</td>\n",
       "      <td>...</td>\n",
       "      <td>...</td>\n",
       "      <td>...</td>\n",
       "      <td>...</td>\n",
       "      <td>...</td>\n",
       "      <td>...</td>\n",
       "      <td>...</td>\n",
       "      <td>...</td>\n",
       "      <td>...</td>\n",
       "      <td>...</td>\n",
       "      <td>...</td>\n",
       "      <td>...</td>\n",
       "      <td>...</td>\n",
       "      <td>...</td>\n",
       "    </tr>\n",
       "    <tr>\n",
       "      <th>2071652</th>\n",
       "      <td>-0.228903</td>\n",
       "      <td>-0.002710</td>\n",
       "      <td>-0.023775</td>\n",
       "      <td>-0.024708</td>\n",
       "      <td>-0.020722</td>\n",
       "      <td>0.331411</td>\n",
       "      <td>0.144798</td>\n",
       "      <td>0.106680</td>\n",
       "      <td>0.082586</td>\n",
       "      <td>-0.387268</td>\n",
       "      <td>-0.529644</td>\n",
       "      <td>-0.393181</td>\n",
       "      <td>-0.208980</td>\n",
       "      <td>2.096720</td>\n",
       "      <td>2.094940</td>\n",
       "    </tr>\n",
       "    <tr>\n",
       "      <th>2071653</th>\n",
       "      <td>-0.228903</td>\n",
       "      <td>-0.002615</td>\n",
       "      <td>-0.026386</td>\n",
       "      <td>-0.025725</td>\n",
       "      <td>-0.020722</td>\n",
       "      <td>0.331411</td>\n",
       "      <td>0.721668</td>\n",
       "      <td>0.641783</td>\n",
       "      <td>0.082584</td>\n",
       "      <td>-0.387268</td>\n",
       "      <td>1.145978</td>\n",
       "      <td>0.928848</td>\n",
       "      <td>-0.208980</td>\n",
       "      <td>2.096720</td>\n",
       "      <td>2.094940</td>\n",
       "    </tr>\n",
       "    <tr>\n",
       "      <th>2071654</th>\n",
       "      <td>-0.766573</td>\n",
       "      <td>-0.003152</td>\n",
       "      <td>-0.028809</td>\n",
       "      <td>-0.029792</td>\n",
       "      <td>-0.028208</td>\n",
       "      <td>0.331411</td>\n",
       "      <td>-1.734151</td>\n",
       "      <td>-1.636230</td>\n",
       "      <td>0.082591</td>\n",
       "      <td>1.690989</td>\n",
       "      <td>0.496819</td>\n",
       "      <td>0.850390</td>\n",
       "      <td>-0.212111</td>\n",
       "      <td>2.096720</td>\n",
       "      <td>2.094940</td>\n",
       "    </tr>\n",
       "    <tr>\n",
       "      <th>2071655</th>\n",
       "      <td>-0.766573</td>\n",
       "      <td>-0.003152</td>\n",
       "      <td>-0.028847</td>\n",
       "      <td>-0.029792</td>\n",
       "      <td>-0.028208</td>\n",
       "      <td>0.331411</td>\n",
       "      <td>-1.734151</td>\n",
       "      <td>-1.636230</td>\n",
       "      <td>0.082591</td>\n",
       "      <td>1.690989</td>\n",
       "      <td>-0.157752</td>\n",
       "      <td>0.850390</td>\n",
       "      <td>-0.212111</td>\n",
       "      <td>2.096720</td>\n",
       "      <td>2.094940</td>\n",
       "    </tr>\n",
       "    <tr>\n",
       "      <th>2071656</th>\n",
       "      <td>-0.228903</td>\n",
       "      <td>-0.002910</td>\n",
       "      <td>-0.028996</td>\n",
       "      <td>-0.029792</td>\n",
       "      <td>-0.025214</td>\n",
       "      <td>0.331411</td>\n",
       "      <td>0.144798</td>\n",
       "      <td>-0.504868</td>\n",
       "      <td>0.082587</td>\n",
       "      <td>-0.387268</td>\n",
       "      <td>-0.649834</td>\n",
       "      <td>0.928848</td>\n",
       "      <td>-0.208980</td>\n",
       "      <td>2.096720</td>\n",
       "      <td>2.094940</td>\n",
       "    </tr>\n",
       "  </tbody>\n",
       "</table>\n",
       "<p>2071657 rows × 15 columns</p>\n",
       "</div>"
      ],
      "text/plain": [
       "          appName  totalSourceBytes  totalDestinationBytes  \\\n",
       "0        3.094875          0.018110              -0.029051   \n",
       "1       -0.277782         -0.002763              -0.029051   \n",
       "2       -0.766573         -0.003046              -0.028511   \n",
       "3       -0.277782         -0.002763              -0.029051   \n",
       "4       -0.277782         -0.003026              -0.028944   \n",
       "...           ...               ...                    ...   \n",
       "2071652 -0.228903         -0.002710              -0.023775   \n",
       "2071653 -0.228903         -0.002615              -0.026386   \n",
       "2071654 -0.766573         -0.003152              -0.028809   \n",
       "2071655 -0.766573         -0.003152              -0.028847   \n",
       "2071656 -0.228903         -0.002910              -0.028996   \n",
       "\n",
       "         totalDestinationPackets  totalSourcePackets  direction  \\\n",
       "0                      -0.030809            0.236801   0.331411   \n",
       "1                      -0.030809           -0.020722   0.331411   \n",
       "2                      -0.026742           -0.026711  -2.490012   \n",
       "3                      -0.030809           -0.020722   0.331411   \n",
       "4                      -0.028776           -0.026711   0.331411   \n",
       "...                          ...                 ...        ...   \n",
       "2071652                -0.024708           -0.020722   0.331411   \n",
       "2071653                -0.025725           -0.020722   0.331411   \n",
       "2071654                -0.029792           -0.028208   0.331411   \n",
       "2071655                -0.029792           -0.028208   0.331411   \n",
       "2071656                -0.029792           -0.025214   0.331411   \n",
       "\n",
       "         sourceTCPFlagsDescription  destinationTCPFlagsDescription    source  \\\n",
       "0                        -1.734151                       -1.636230  0.082591   \n",
       "1                        -0.621615                       -1.636230  0.082586   \n",
       "2                        -1.734151                       -1.636230  0.082589   \n",
       "3                        -0.621615                       -1.636230  0.082589   \n",
       "4                         0.037665                       -1.009394  0.082589   \n",
       "...                            ...                             ...       ...   \n",
       "2071652                   0.144798                        0.106680  0.082586   \n",
       "2071653                   0.721668                        0.641783  0.082584   \n",
       "2071654                  -1.734151                       -1.636230  0.082591   \n",
       "2071655                  -1.734151                       -1.636230  0.082591   \n",
       "2071656                   0.144798                       -0.504868  0.082587   \n",
       "\n",
       "         protocolName  sourcePort  destination  destinationPort  \\\n",
       "0            1.690989   -0.436112     1.278776         0.402505   \n",
       "1           -0.387268   -0.481686     0.989074        -0.208980   \n",
       "2            1.690989   -0.482034     0.749291        -0.212111   \n",
       "3           -0.387268   -0.521204     1.200566        -0.208980   \n",
       "4           -0.387268   -0.521105    -0.840665        -0.208980   \n",
       "...               ...         ...          ...              ...   \n",
       "2071652     -0.387268   -0.529644    -0.393181        -0.208980   \n",
       "2071653     -0.387268    1.145978     0.928848        -0.208980   \n",
       "2071654      1.690989    0.496819     0.850390        -0.212111   \n",
       "2071655      1.690989   -0.157752     0.850390        -0.212111   \n",
       "2071656     -0.387268   -0.649834     0.928848        -0.208980   \n",
       "\n",
       "         startDateTime  stopDateTime  \n",
       "0             2.093788     -2.089937  \n",
       "1             2.096720     -2.119263  \n",
       "2             2.096720      2.097873  \n",
       "3             2.096720     -2.122196  \n",
       "4             2.096720      2.097873  \n",
       "...                ...           ...  \n",
       "2071652       2.096720      2.094940  \n",
       "2071653       2.096720      2.094940  \n",
       "2071654       2.096720      2.094940  \n",
       "2071655       2.096720      2.094940  \n",
       "2071656       2.096720      2.094940  \n",
       "\n",
       "[2071657 rows x 15 columns]"
      ]
     },
     "execution_count": 25,
     "metadata": {},
     "output_type": "execute_result"
    }
   ],
   "source": [
    "from sklearn.preprocessing import StandardScaler\n",
    "std_scaler = StandardScaler()\n",
    "df_scaled = std_scaler.fit_transform(X.to_numpy())\n",
    "df0 = pd.DataFrame(df_scaled, columns=['appName', 'totalSourceBytes', 'totalDestinationBytes',\n",
    "       'totalDestinationPackets', 'totalSourcePackets', 'direction',\n",
    "       'sourceTCPFlagsDescription', 'destinationTCPFlagsDescription', 'source',\n",
    "       'protocolName', 'sourcePort', 'destination', 'destinationPort',\n",
    "       'startDateTime', 'stopDateTime'])\n",
    "\n",
    "df0"
   ]
  },
  {
   "cell_type": "code",
   "execution_count": null,
   "metadata": {
    "id": "VeP4DuAqvOBw"
   },
   "outputs": [],
   "source": [
    "from sklearn.model_selection import train_test_split\n",
    "X_train, X_test, y_train, y_test = train_test_split(df0,y ,\n",
    "                                   random_state=104,\n",
    "                                   test_size=0.1,\n",
    "                                   shuffle=True)"
   ]
  },
  {
   "cell_type": "code",
   "execution_count": null,
   "metadata": {
    "id": "WLqyW6sGvOBx",
    "outputId": "25071801-c61c-48f3-c822-9fe8a345d45a"
   },
   "outputs": [
    {
     "data": {
      "text/plain": [
       "(1864491, 15)"
      ]
     },
     "execution_count": 27,
     "metadata": {},
     "output_type": "execute_result"
    }
   ],
   "source": [
    "X_train.shape"
   ]
  },
  {
   "cell_type": "code",
   "execution_count": null,
   "metadata": {
    "id": "BpqCXh3dvOBx",
    "outputId": "44e6cb3c-a145-4922-9c86-ab6544833e6e"
   },
   "outputs": [
    {
     "data": {
      "text/plain": [
       "(1864491,)"
      ]
     },
     "execution_count": 28,
     "metadata": {},
     "output_type": "execute_result"
    }
   ],
   "source": [
    "y_train.shape"
   ]
  },
  {
   "cell_type": "markdown",
   "metadata": {
    "id": "8bA5TEuxvOBx"
   },
   "source": [
    "RNN"
   ]
  },
  {
   "cell_type": "code",
   "execution_count": null,
   "metadata": {
    "id": "E35oaqDAvOBy"
   },
   "outputs": [],
   "source": [
    "from keras.models import Sequential\n",
    "from keras.layers import SimpleRNN, Dense"
   ]
  },
  {
   "cell_type": "code",
   "execution_count": null,
   "metadata": {
    "id": "Wm02cq1VvOBy",
    "outputId": "b8b10290-77d0-4d2c-cd4e-7b309ded4246"
   },
   "outputs": [
    {
     "name": "stdout",
     "output_type": "stream",
     "text": [
      "Epoch 1/10\n",
      "14567/14567 [==============================] - 116s 8ms/step - loss: 0.0170 - accuracy: 0.9943\n",
      "Epoch 2/10\n",
      "14567/14567 [==============================] - 116s 8ms/step - loss: 0.0112 - accuracy: 0.9963\n",
      "Epoch 3/10\n",
      "14567/14567 [==============================] - 109s 8ms/step - loss: 0.0107 - accuracy: 0.9964\n",
      "Epoch 4/10\n",
      "14567/14567 [==============================] - 107s 7ms/step - loss: 0.0102 - accuracy: 0.9964\n",
      "Epoch 5/10\n",
      "14567/14567 [==============================] - 103s 7ms/step - loss: 0.0100 - accuracy: 0.9965\n",
      "Epoch 6/10\n",
      "14567/14567 [==============================] - 100s 7ms/step - loss: 0.0098 - accuracy: 0.9965\n",
      "Epoch 7/10\n",
      "14567/14567 [==============================] - 105s 7ms/step - loss: 0.0098 - accuracy: 0.9965\n",
      "Epoch 8/10\n",
      "14567/14567 [==============================] - 95s 7ms/step - loss: 0.0097 - accuracy: 0.9965\n",
      "Epoch 9/10\n",
      "14567/14567 [==============================] - 96s 7ms/step - loss: 0.0092 - accuracy: 0.9965\n",
      "Epoch 10/10\n",
      "14567/14567 [==============================] - 95s 7ms/step - loss: 0.0090 - accuracy: 0.9965\n",
      "6474/6474 [==============================] - 30s 4ms/step - loss: 0.0083 - accuracy: 0.9965\n",
      "6474/6474 [==============================] - 27s 4ms/step\n"
     ]
    }
   ],
   "source": [
    "# Define the model architecture\n",
    "model = Sequential()\n",
    "model.add(SimpleRNN(units=32, input_shape=(None, 1)))\n",
    "model.add(Dense(units=1, activation='sigmoid'))\n",
    "# Compile the model\n",
    "model.compile(loss='binary_crossentropy', optimizer='adam', metrics=['accuracy'])\n",
    "# Train the model\n",
    "model.fit(X_train, y_train, epochs=10, batch_size=128)\n",
    "# Evaluate the model\n",
    "loss, accuracy = model.evaluate(X_test, y_test)\n",
    "# Make predictions using the model\n",
    "predictions = model.predict(X_test)"
   ]
  },
  {
   "cell_type": "code",
   "execution_count": null,
   "metadata": {
    "id": "VCnDM76ivOBy"
   },
   "outputs": [],
   "source": [
    "predictions = (predictions > 0.5).astype(int)"
   ]
  },
  {
   "cell_type": "code",
   "execution_count": null,
   "metadata": {
    "id": "qI1UzuixvOBy",
    "outputId": "2ebdce06-47f4-4c9a-b785-0ee2839280d9"
   },
   "outputs": [
    {
     "name": "stdout",
     "output_type": "stream",
     "text": [
      "accuracy 99.64907368969811\n",
      "f1score 94.920701460211\n"
     ]
    }
   ],
   "source": [
    "from sklearn.metrics import  accuracy_score\n",
    "print(\"accuracy\"+\" \"+str(accuracy_score(y_test, predictions)*100))\n",
    "from sklearn.metrics import f1_score\n",
    "f1 = f1_score(y_test,predictions )\n",
    "print(\"f1score\"+\" \"+str(f1*100))"
   ]
  },
  {
   "cell_type": "markdown",
   "metadata": {
    "id": "cQ4tzRKlvOBy"
   },
   "source": [
    "accuracy 99.64907368969811\n",
    "f1score 94.920701460211"
   ]
  },
  {
   "cell_type": "markdown",
   "metadata": {
    "id": "k7_YD-GlvOBy"
   },
   "source": [
    "Attention RNN"
   ]
  },
  {
   "cell_type": "code",
   "execution_count": null,
   "metadata": {
    "id": "eD7MQ61QvOBy"
   },
   "outputs": [],
   "source": [
    "import tensorflow as tf\n",
    "from tensorflow.keras.models import Model\n",
    "from tensorflow.keras.layers import Input, SimpleRNN, Dense, Dense, Concatenate, Dot, Activation\n",
    "import numpy as np\n",
    "\n",
    "class AttentionRNN(Model):\n",
    "    def __init__(self, units):\n",
    "        super(AttentionRNN, self).__init__()\n",
    "        self.units = units\n",
    "        self.rnn = SimpleRNN(units, return_sequences=True, return_state=True)\n",
    "        self.Wc = Dense(units)\n",
    "        self.Va = Dense(1)\n",
    "\n",
    "    def call(self, inputs):\n",
    "        # inputs shape: (batch_size, sequence_length, input_dim)\n",
    "\n",
    "        # RNN output and hidden state calculation\n",
    "        outputs, state = self.rnn(inputs)\n",
    "\n",
    "        # Expand dimensions of hidden state to perform addition\n",
    "        hidden_with_time_axis = tf.expand_dims(state, 1)\n",
    "\n",
    "        # Attention score calculation\n",
    "        score = self.Va(tf.nn.tanh(self.Wc(outputs) + hidden_with_time_axis))\n",
    "\n",
    "        # Attention weights calculation\n",
    "        attention_weights = tf.nn.softmax(score, axis=1)\n",
    "\n",
    "        # Weighted sum of outputs based on attention weights\n",
    "        context_vector = attention_weights * outputs\n",
    "        context_vector = tf.reduce_sum(context_vector, axis=1)\n",
    "\n",
    "        return context_vector\n",
    "\n",
    "# Define the model architecture\n",
    "input_shape = (None, 1)\n",
    "units = 32\n",
    "inputs = Input(shape=input_shape)\n",
    "rnn_layer = AttentionRNN(units)\n",
    "outputs = rnn_layer(inputs)\n",
    "\n",
    "# Define output layer\n",
    "outputs = Dense(1, activation='sigmoid')(outputs)\n",
    "\n",
    "# Create model\n",
    "model = Model(inputs=inputs, outputs=outputs)\n",
    "\n",
    "# Compile the model\n",
    "model.compile(loss='binary_crossentropy', optimizer='adam', metrics=['accuracy'])\n",
    "\n",
    "# Train the model\n",
    "model.fit(X_train, y_train, epochs=10, batch_size=512)\n"
   ]
  },
  {
   "cell_type": "code",
   "execution_count": null,
   "metadata": {
    "id": "Z3lIVUsEvOBz"
   },
   "outputs": [],
   "source": [
    "loss, accuracy = model.evaluate(X_test, y_test)\n",
    "predictions = model.predict(X_test)\n",
    "predictions = (predictions > 0.5).astype(int)\n",
    "from sklearn.metrics import  accuracy_score\n",
    "print(\"accuracy\"+\" \"+str(accuracy_score(y_test, predictions)*100))\n",
    "from sklearn.metrics import f1_score\n",
    "f1 = f1_score(y_test,predictions )\n",
    "print(\"f1score\"+\" \"+str(f1*100))"
   ]
  },
  {
   "cell_type": "markdown",
   "metadata": {
    "id": "cKsiH-i3vOBz"
   },
   "source": [
    "accuracy 99.65776237413475\n",
    "f1score 95.09376513736075"
   ]
  },
  {
   "cell_type": "markdown",
   "metadata": {
    "id": "bRIVnvpxvOBz"
   },
   "source": [
    "LSTM"
   ]
  },
  {
   "cell_type": "code",
   "execution_count": null,
   "metadata": {
    "id": "MYlhwjMfvOBz",
    "outputId": "28dc1165-a333-4f50-f480-bfb9a44b0abb"
   },
   "outputs": [
    {
     "name": "stdout",
     "output_type": "stream",
     "text": [
      "WARNING:tensorflow:From C:\\Users\\shiya\\AppData\\Roaming\\Python\\Python310\\site-packages\\keras\\src\\backend.py:873: The name tf.get_default_graph is deprecated. Please use tf.compat.v1.get_default_graph instead.\n",
      "\n",
      "WARNING:tensorflow:From C:\\Users\\shiya\\AppData\\Roaming\\Python\\Python310\\site-packages\\keras\\src\\optimizers\\__init__.py:309: The name tf.train.Optimizer is deprecated. Please use tf.compat.v1.train.Optimizer instead.\n",
      "\n",
      "Epoch 1/10\n",
      "WARNING:tensorflow:From C:\\Users\\shiya\\AppData\\Roaming\\Python\\Python310\\site-packages\\keras\\src\\utils\\tf_utils.py:492: The name tf.ragged.RaggedTensorValue is deprecated. Please use tf.compat.v1.ragged.RaggedTensorValue instead.\n",
      "\n",
      "WARNING:tensorflow:From C:\\Users\\shiya\\AppData\\Roaming\\Python\\Python310\\site-packages\\keras\\src\\engine\\base_layer_utils.py:384: The name tf.executing_eagerly_outside_functions is deprecated. Please use tf.compat.v1.executing_eagerly_outside_functions instead.\n",
      "\n",
      "14567/14567 [==============================] - 188s 13ms/step - loss: 0.0236 - accuracy: 0.9925\n",
      "Epoch 2/10\n",
      "14567/14567 [==============================] - 251s 17ms/step - loss: 0.0115 - accuracy: 0.9961\n",
      "Epoch 3/10\n",
      "14567/14567 [==============================] - 284s 19ms/step - loss: 0.0098 - accuracy: 0.9964\n",
      "Epoch 4/10\n",
      "14567/14567 [==============================] - 324s 22ms/step - loss: 0.0092 - accuracy: 0.9965\n",
      "Epoch 5/10\n",
      "14567/14567 [==============================] - 350s 24ms/step - loss: 0.0087 - accuracy: 0.9965\n",
      "Epoch 6/10\n",
      "14567/14567 [==============================] - 366s 25ms/step - loss: 0.0075 - accuracy: 0.9969\n",
      "Epoch 7/10\n",
      "14567/14567 [==============================] - 271s 19ms/step - loss: 0.0065 - accuracy: 0.9972\n",
      "Epoch 8/10\n",
      "14567/14567 [==============================] - 321s 22ms/step - loss: 0.0062 - accuracy: 0.9973\n",
      "Epoch 9/10\n",
      "14567/14567 [==============================] - 478s 33ms/step - loss: 0.0060 - accuracy: 0.9974\n",
      "Epoch 10/10\n",
      "14567/14567 [==============================] - 408s 28ms/step - loss: 0.0058 - accuracy: 0.9974\n",
      "6474/6474 [==============================] - 86s 13ms/step - loss: 0.0055 - accuracy: 0.9977\n",
      "6474/6474 [==============================] - 63s 9ms/step\n"
     ]
    }
   ],
   "source": [
    "# Import necessary libraries\n",
    "from tensorflow.keras.models import Sequential\n",
    "from tensorflow.keras.layers import LSTM, Dense\n",
    "import numpy as np\n",
    "\n",
    "# Define the model architecture\n",
    "model = Sequential()\n",
    "model.add(LSTM(units=32, input_shape=(None, 1)))\n",
    "model.add(Dense(units=1, activation='sigmoid'))\n",
    "\n",
    "# Compile the model\n",
    "model.compile(loss='binary_crossentropy', optimizer='adam', metrics=['accuracy'])\n",
    "\n",
    "# Train the model\n",
    "model.fit(X_train, y_train, epochs=10, batch_size=128)\n",
    "\n",
    "# Evaluate the model\n",
    "loss, accuracy = model.evaluate(X_test, y_test)\n",
    "\n",
    "# Make predictions using the model\n",
    "predictions = model.predict(X_test)\n"
   ]
  },
  {
   "cell_type": "code",
   "execution_count": null,
   "metadata": {
    "id": "fbJjKk1ovOBz",
    "outputId": "2d84a0cc-4825-4713-d64e-e2cfd517a6f4"
   },
   "outputs": [
    {
     "name": "stdout",
     "output_type": "stream",
     "text": [
      "accuracy 99.76781904366547\n",
      "f1score 96.5467729198076\n"
     ]
    }
   ],
   "source": [
    "predictions = (predictions > 0.5).astype(int)\n",
    "from sklearn.metrics import  accuracy_score\n",
    "print(\"accuracy\"+\" \"+str(accuracy_score(y_test, predictions)*100))\n",
    "from sklearn.metrics import f1_score\n",
    "f1 = f1_score(y_test,predictions )\n",
    "print(\"f1score\"+\" \"+str(f1*100))"
   ]
  },
  {
   "cell_type": "markdown",
   "metadata": {
    "id": "EVd9a6S7vOBz"
   },
   "source": [
    "accuracy 99.76781904366547\n",
    "f1score 96.5467729198076"
   ]
  },
  {
   "cell_type": "markdown",
   "metadata": {
    "id": "X-LnqCfqvOB3"
   },
   "source": [
    "Attention Lstm"
   ]
  },
  {
   "cell_type": "code",
   "execution_count": null,
   "metadata": {
    "id": "Y38ubv2GvOB3"
   },
   "outputs": [],
   "source": [
    "import tensorflow as tf\n",
    "from tensorflow.keras.models import Model\n",
    "from tensorflow.keras.layers import Input, SimpleRNN, Dense, Dense, Concatenate, Dot, Activation\n",
    "import numpy as np\n",
    "\n",
    "class AttentionRNN(Model):\n",
    "    def __init__(self, units):\n",
    "        super(AttentionRNN, self).__init__()\n",
    "        self.units = units\n",
    "        self.rnn = SimpleRNN(units, return_sequences=True, return_state=True)\n",
    "        self.Wc = Dense(units)\n",
    "        self.Va = Dense(1)\n",
    "\n",
    "    def call(self, inputs):\n",
    "        # inputs shape: (batch_size, sequence_length, input_dim)\n",
    "\n",
    "        # RNN output and hidden state calculation\n",
    "        outputs, state = self.rnn(inputs)\n",
    "\n",
    "        # Expand dimensions of hidden state to perform addition\n",
    "        hidden_with_time_axis = tf.expand_dims(state, 1)\n",
    "\n",
    "        # Attention score calculation\n",
    "        score = self.Va(tf.nn.tanh(self.Wc(outputs) + hidden_with_time_axis))\n",
    "\n",
    "        # Attention weights calculation\n",
    "        attention_weights = tf.nn.softmax(score, axis=1)\n",
    "\n",
    "        # Weighted sum of outputs based on attention weights\n",
    "        context_vector = attention_weights * outputs\n",
    "        context_vector = tf.reduce_sum(context_vector, axis=1)\n",
    "\n",
    "        return context_vector\n",
    "\n",
    "# Define the model architecture\n",
    "input_shape = (None, 1)\n",
    "units = 32\n",
    "inputs = Input(shape=input_shape)\n",
    "rnn_layer = AttentionRNN(units)\n",
    "outputs = rnn_layer(inputs)\n",
    "\n",
    "# Define output layer\n",
    "outputs = Dense(1, activation='sigmoid')(outputs)\n",
    "\n",
    "# Create model\n",
    "model = Model(inputs=inputs, outputs=outputs)\n",
    "\n",
    "# Compile the model\n",
    "model.compile(loss='binary_crossentropy', optimizer='adam', metrics=['accuracy'])\n",
    "\n",
    "# Train the model\n",
    "model.fit(X_train, y_train, epochs=10, batch_size=512)\n"
   ]
  },
  {
   "cell_type": "code",
   "execution_count": null,
   "metadata": {
    "id": "1ZswO5ozvOB3"
   },
   "outputs": [],
   "source": [
    "loss, accuracy = model.evaluate(X_test, y_test)\n",
    "predictions = model.predict(X_test)\n",
    "predictions = (predictions > 0.5).astype(int)\n",
    "from sklearn.metrics import  accuracy_score\n",
    "print(\"accuracy\"+\" \"+str(accuracy_score(y_test, predictions)*100))\n",
    "from sklearn.metrics import f1_score\n",
    "f1 = f1_score(y_test,predictions )\n",
    "print(\"f1score\"+\" \"+str(f1*100))"
   ]
  },
  {
   "cell_type": "markdown",
   "metadata": {
    "id": "iUX1hNiKvOB3"
   },
   "source": [
    "accuracy 99.66017589758937\n",
    "f1score 95.12600387704236"
   ]
  },
  {
   "cell_type": "markdown",
   "metadata": {
    "id": "IHnS8G8SvOB3"
   },
   "source": [
    "GRU"
   ]
  },
  {
   "cell_type": "code",
   "execution_count": null,
   "metadata": {
    "id": "Me56_We1vOB3"
   },
   "outputs": [],
   "source": [
    "# Import necessary libraries\n",
    "from tensorflow.keras.models import Sequential\n",
    "from tensorflow.keras.layers import LSTM, Dense\n",
    "from tensorflow.keras.callbacks import EarlyStopping\n",
    "import numpy as np\n",
    "# Define the model architecture\n",
    "model = Sequential()\n",
    "model.add(LSTM(units=32, input_shape=(None, 1)))\n",
    "model.add(Dense(units=1, activation='sigmoid'))\n",
    "# Compile the model\n",
    "model.compile(loss='binary_crossentropy', optimizer='adam', metrics=['accuracy'])\n",
    "# Define early stopping criteria\n",
    "early_stopping = EarlyStopping(monitor='val_loss', patience=3, verbose=1, restore_best_weights=True)\n",
    "# Train the model with early stopping\n",
    "model.fit(X_train, y_train, epochs=10, batch_size=128, validation_data=(X_test, y_test), callbacks=[early_stopping])\n",
    "# Evaluate the model\n",
    "loss, accuracy = model.evaluate(X_test, y_test)\n",
    "# Make predictions using the model\n",
    "predictions = model.predict(X_test)"
   ]
  },
  {
   "cell_type": "code",
   "execution_count": null,
   "metadata": {
    "id": "2v9lf1GtvOB4"
   },
   "outputs": [],
   "source": [
    "\n",
    "predictions = (predictions > 0.5).astype(int)\n",
    "from sklearn.metrics import  accuracy_score\n",
    "print(\"accuracy\"+\" \"+str(accuracy_score(y_test, predictions)*100))\n",
    "from sklearn.metrics import f1_score\n",
    "f1 = f1_score(y_test,predictions )\n",
    "print(\"f1score\"+\" \"+str(f1*100))"
   ]
  },
  {
   "cell_type": "markdown",
   "metadata": {
    "id": "MM4QOQF9vOB4"
   },
   "source": [
    "accuracy 99.64859098500719\n",
    "f1score 94.90410191796164"
   ]
  },
  {
   "cell_type": "markdown",
   "metadata": {
    "id": "cqbawPySvOB4"
   },
   "source": [
    "Attention GRU"
   ]
  },
  {
   "cell_type": "code",
   "execution_count": null,
   "metadata": {
    "id": "6d7hXJY3vOB4"
   },
   "outputs": [],
   "source": [
    "import tensorflow as tf\n",
    "from tensorflow.keras.models import Model\n",
    "from tensorflow.keras.layers import Input, GRU, Dense, Concatenate, Dot, Activation\n",
    "import numpy as np\n",
    "\n",
    "class AttentionGRU(Model):\n",
    "    def __init__(self, units):\n",
    "        super(AttentionGRU, self).__init__()\n",
    "        self.units = units\n",
    "        self.gru = GRU(units, return_sequences=True, return_state=True)\n",
    "        self.Wc = Dense(units)\n",
    "        self.Va = Dense(1)\n",
    "\n",
    "    def call(self, inputs):\n",
    "        # inputs shape: (batch_size, sequence_length, input_dim)\n",
    "\n",
    "        # GRU output and hidden state calculation\n",
    "        outputs, state = self.gru(inputs)\n",
    "\n",
    "        # Expand dimensions of hidden state to perform addition\n",
    "        hidden_with_time_axis = tf.expand_dims(state, 1)\n",
    "\n",
    "        # Attention score calculation\n",
    "        score = self.Va(tf.nn.tanh(self.Wc(outputs) + hidden_with_time_axis))\n",
    "\n",
    "        # Attention weights calculation\n",
    "        attention_weights = tf.nn.softmax(score, axis=1)\n",
    "\n",
    "        # Weighted sum of outputs based on attention weights\n",
    "        context_vector = attention_weights * outputs\n",
    "        context_vector = tf.reduce_sum(context_vector, axis=1)\n",
    "\n",
    "        return context_vector\n",
    "\n",
    "# Define the model architecture\n",
    "input_shape = (None, 1)\n",
    "units = 32\n",
    "inputs = Input(shape=input_shape)\n",
    "gru_layer = AttentionGRU(units)\n",
    "outputs = gru_layer(inputs)\n",
    "\n",
    "# Define output layer\n",
    "outputs = Dense(1, activation='sigmoid')(outputs)\n",
    "\n",
    "# Create model\n",
    "model = Model(inputs=inputs, outputs=outputs)\n",
    "\n",
    "# Compile the model\n",
    "model.compile(loss='binary_crossentropy', optimizer='adam', metrics=['accuracy'])\n",
    "\n",
    "# Train the model\n",
    "model.fit(X_train, y_train, epochs=10, batch_size=512)\n",
    "loss, accuracy = model.evaluate(X_test, y_test)\n",
    "predictions = model.predict(X_test)"
   ]
  },
  {
   "cell_type": "code",
   "execution_count": null,
   "metadata": {
    "id": "S_V3H13OvOB4"
   },
   "outputs": [],
   "source": [
    "predictions = (predictions > 0.5).astype(int)\n",
    "from sklearn.metrics import  accuracy_score\n",
    "print(\"accuracy\"+\" \"+str(accuracy_score(y_test, predictions)*100))\n",
    "from sklearn.metrics import f1_score\n",
    "f1 = f1_score(y_test,predictions )\n",
    "print(\"f1score\"+\" \"+str(f1*100))"
   ]
  },
  {
   "cell_type": "markdown",
   "metadata": {
    "id": "XtEr1AdJvOB4"
   },
   "source": [
    "accuracy 99.74271839973741\n",
    "f1score 96.22173389097611"
   ]
  }
 ],
 "metadata": {
  "colab": {
   "provenance": []
  },
  "kernelspec": {
   "display_name": "Python 3 (ipykernel)",
   "language": "python",
   "name": "python3"
  },
  "language_info": {
   "codemirror_mode": {
    "name": "ipython",
    "version": 3
   },
   "file_extension": ".py",
   "mimetype": "text/x-python",
   "name": "python",
   "nbconvert_exporter": "python",
   "pygments_lexer": "ipython3",
   "version": "3.11.9"
  }
 },
 "nbformat": 4,
 "nbformat_minor": 1
}
